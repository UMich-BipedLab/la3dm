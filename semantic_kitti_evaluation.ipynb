{
 "cells": [
  {
   "cell_type": "code",
   "execution_count": 5,
   "metadata": {},
   "outputs": [
    {
     "name": "stdout",
     "output_type": "stream",
     "text": [
      "[0 0 0 ... 9 9 9]\n",
      "[13 13 13 ...  9  9  9]\n",
      "[      0       1       2       3       4       6       7       9      10\n",
      "      11      12      13      14      15      16      17      18      19\n",
      " 3276801 3342337 3407873 3473409 3538945 3604481 3670017 3735553 3866625\n",
      " 3932161 4128769 4194305]\n",
      "[0.         0.         0.         0.         0.         0.\n",
      " 0.         0.92208839 0.93278662 0.85020095 0.         0.87103731\n",
      " 0.80927    0.83536936 0.35108481 0.72187075 0.27482993 0.\n",
      " 0.         0.         0.         0.         0.         0.\n",
      " 0.         0.         0.         0.         0.         0.        ]\n"
     ]
    }
   ],
   "source": [
    "import numpy as np\n",
    "from sklearn.metrics import jaccard_score\n",
    "\n",
    "\n",
    "gt_file = '/media/ganlu/PeRL SSD/kitti/dataset/sequences/05/labels/000100.label'\n",
    "#gt_file = '/media/ganlu/PeRL SSD/data_odometry_labels/dataset/sequences/05/labels/000000.label'\n",
    "gt_label = np.fromfile(gt_file, dtype=np.uint32)\n",
    "pred_file = '/media/ganlu/PeRL SSD/kitti/dataset/sequences/05/predictions/000100.label'\n",
    "pred_label = np.fromfile(pred_file, dtype=np.uint32)\n",
    "print(gt_label)\n",
    "print(pred_label)\n",
    "\n",
    "        \n",
    "print( np.unique(np.concatenate((gt_label, pred_label), axis=0)) )\n",
    "print(jaccard_score(gt_label, pred_label, average=None)) "
   ]
  },
  {
   "cell_type": "code",
   "execution_count": 4,
   "metadata": {
    "scrolled": true
   },
   "outputs": [
    {
     "name": "stdout",
     "output_type": "stream",
     "text": [
      "[      0       1 3276801 3342337 3407873 3473409 3538945 3604481 3670017\n",
      " 3735553 3866625 3932161 4128769 4194305       9      10      11      13\n",
      "      14      15      16      17      18]\n"
     ]
    }
   ],
   "source": [
    "print( np.unique(gt_label, axis=0)) "
   ]
  },
  {
   "cell_type": "code",
   "execution_count": null,
   "metadata": {},
   "outputs": [],
   "source": [
    "[      0      10 3276810 3342346 3407882 3473418 3538954 3604490 3670026\n",
    " 3735562 3866634 3932170 4128778 4194314      40      44      48      50\n",
    "      51      52      70      71      72      80      99]"
   ]
  },
  {
   "cell_type": "code",
   "execution_count": null,
   "metadata": {},
   "outputs": [],
   "source": []
  }
 ],
 "metadata": {
  "kernelspec": {
   "display_name": "Python 3",
   "language": "python",
   "name": "python3"
  },
  "language_info": {
   "codemirror_mode": {
    "name": "ipython",
    "version": 3
   },
   "file_extension": ".py",
   "mimetype": "text/x-python",
   "name": "python",
   "nbconvert_exporter": "python",
   "pygments_lexer": "ipython3",
   "version": "3.5.2"
  }
 },
 "nbformat": 4,
 "nbformat_minor": 2
}
