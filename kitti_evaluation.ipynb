{
 "cells": [
  {
   "cell_type": "code",
   "execution_count": 61,
   "metadata": {
    "scrolled": true
   },
   "outputs": [
    {
     "name": "stdout",
     "output_type": "stream",
     "text": [
      "000000\n",
      "000020\n",
      "000040\n",
      "000060\n",
      "000100\n",
      "000120\n",
      "000140\n",
      "000160\n",
      "000180\n",
      "000200\n",
      "000220\n",
      "000240\n",
      "000260\n",
      "000280\n",
      "000300\n",
      "000320\n",
      "000340\n",
      "000360\n",
      "000380\n",
      "000400\n",
      "000420\n",
      "000440\n",
      "000460\n",
      "000480\n",
      "000500\n",
      "000520\n",
      "000540\n",
      "000560\n",
      "000580\n",
      "000600\n",
      "000620\n",
      "000640\n",
      "000660\n",
      "000680\n",
      "000700\n",
      "000720\n",
      "000740\n",
      "000760\n",
      "000780\n",
      "000800\n",
      "[  0.   2.   3.   4.   5.   6.   7.   8.   9.  10. 255.]\n",
      "[0.45624089 0.75482282 0.52781561 0.62870539 0.43324459 0.\n",
      " 0.         0.1492199  0.49309034 0.2288945  0.        ]\n"
     ]
    }
   ],
   "source": [
    "import numpy as np\n",
    "from sklearn.metrics import jaccard_score\n",
    "from PIL import Image\n",
    "\n",
    "gt_color_to_label = {\n",
    "    (128,   0,   0) : 0,  # building\n",
    "    (128, 128, 128) : 1,  # sky\n",
    "    (128,  64, 128) : 2,  # road\n",
    "    (128, 128,   0) : 3,  # vegetation\n",
    "    (  0,   0, 192) : 4,  # sidewalk\n",
    "    ( 64,   0, 128) : 5,  # car\n",
    "    ( 64,  64,   0) : 6,  # pedestrain\n",
    "    (  0, 128, 192) : 7,  # cyclist\n",
    "    (192, 128, 128) : 8,  # signate\n",
    "    ( 64,  64, 128) : 9,  # fence\n",
    "    (192, 192, 128) : 10, # pole\n",
    "    (  0,   0,   0) : 255 # invalid\n",
    "}\n",
    "\n",
    "img_gt_dir = '/home/ganlu/la3dm_ws/src/semantic_3d_mapping/grid_sensor/data_kitti_05/kitti_05/'\n",
    "img_pred_dir = '/home/ganlu/la3dm_ws/src/semantic_3d_mapping/grid_sensor/data_kitti_05/reproj_img_bgk_inference/'\n",
    "evaluation_list = '/home/ganlu/la3dm_ws/src/semantic_3d_mapping/grid_sensor/data_kitti_05/evaluatioList.txt'\n",
    "evaluation_list = np.loadtxt(evaluation_list)\n",
    "\n",
    "img_pred_all = []\n",
    "img_gt_all = []\n",
    "for img_id in evaluation_list:\n",
    "    img_id = np.array2string(img_id, formatter={'float_kind':lambda x: \"%06i\" % x})\n",
    "    print(img_id)\n",
    "    \n",
    "    # Read images\n",
    "    img_gt_color = np.array(Image.open(img_gt_dir + img_id + '.png'))\n",
    "    img_pred = np.array(Image.open(img_pred_dir + img_id + '_bw.png'))\n",
    "\n",
    "    # Convert rgb to label\n",
    "    rows, cols, _ = img_gt_color.shape\n",
    "    img_gt = np.zeros((rows, cols))\n",
    "    for i in range(rows):\n",
    "        for j in range(cols):\n",
    "            img_gt[i, j] = gt_color_to_label[tuple(img_gt_color[i, j, :])]\n",
    "    \n",
    "    img_gt_all.append(img_gt)\n",
    "    img_pred_all.append(img_pred)\n",
    "    \n",
    "# Flatten\n",
    "img_gt_all = np.array(img_gt_all).flatten()\n",
    "img_pred_all = np.array(img_pred_all).flatten()\n",
    "\n",
    "# Ignore sky and invalid labels\n",
    "img_pred_all = img_pred_all[img_gt_all != 1]\n",
    "img_gt_all = img_gt_all[img_gt_all != 1]\n",
    "img_pred_all = img_pred_all[img_gt_all != 255]\n",
    "img_gt_all = img_gt_all[img_gt_all != 255]\n",
    "\n",
    "\n",
    "# IoU for each class\n",
    "print( np.unique(np.concatenate((img_gt_all, img_pred_all), axis=0)) )\n",
    "print( jaccard_score(img_gt_all, img_pred_all, average=None) )"
   ]
  },
  {
   "cell_type": "code",
   "execution_count": 62,
   "metadata": {},
   "outputs": [
    {
     "name": "stdout",
     "output_type": "stream",
     "text": [
      "              precision    recall  f1-score   support\n",
      "\n",
      "         0.0       0.90      0.48      0.63   4365645\n",
      "         2.0       0.94      0.79      0.86   2297856\n",
      "         3.0       0.89      0.57      0.69   3779679\n",
      "         4.0       0.91      0.67      0.77   1276557\n",
      "         5.0       0.96      0.44      0.60    846401\n",
      "         6.0       0.00      0.00      0.00    215840\n",
      "         7.0       0.00      0.00      0.00         0\n",
      "         8.0       0.86      0.15      0.26      7313\n",
      "         9.0       0.94      0.51      0.66   1976975\n",
      "        10.0       0.50      0.30      0.37     31859\n",
      "       255.0       0.00      0.00      0.00         0\n",
      "\n",
      "    accuracy                           0.56  14798125\n",
      "   macro avg       0.63      0.36      0.44  14798125\n",
      "weighted avg       0.90      0.56      0.69  14798125\n",
      "\n"
     ]
    }
   ],
   "source": [
    "from sklearn.metrics import classification_report\n",
    "print(classification_report(img_gt_all, img_pred_all))"
   ]
  },
  {
   "cell_type": "code",
   "execution_count": null,
   "metadata": {},
   "outputs": [],
   "source": []
  }
 ],
 "metadata": {
  "kernelspec": {
   "display_name": "Python 3",
   "language": "python",
   "name": "python3"
  },
  "language_info": {
   "codemirror_mode": {
    "name": "ipython",
    "version": 3
   },
   "file_extension": ".py",
   "mimetype": "text/x-python",
   "name": "python",
   "nbconvert_exporter": "python",
   "pygments_lexer": "ipython3",
   "version": "3.5.2"
  }
 },
 "nbformat": 4,
 "nbformat_minor": 2
}
