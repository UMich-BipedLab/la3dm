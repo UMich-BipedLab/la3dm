{
 "cells": [
  {
   "cell_type": "code",
   "execution_count": 6,
   "metadata": {
    "scrolled": true
   },
   "outputs": [
    {
     "name": "stdout",
     "output_type": "stream",
     "text": [
      "000000\n",
      "000003\n",
      "000005\n",
      "000006\n",
      "000009\n",
      "000010\n",
      "000012\n",
      "000015\n",
      "000018\n",
      "000020\n",
      "000021\n",
      "000024\n",
      "000025\n",
      "000027\n",
      "000030\n",
      "000033\n",
      "000035\n",
      "000036\n",
      "000039\n",
      "000040\n",
      "000042\n",
      "000045\n",
      "000048\n",
      "000050\n",
      "000078\n",
      "[ 0.  2.  3.  4.  5.  7.  8.  9. 10.]\n",
      "[0.95561747 0.90364201 0.92816167 0.70034187 0.94406531 0.\n",
      " 0.00114351 0.8450754  0.49522575]\n"
     ]
    }
   ],
   "source": [
    "import numpy as np\n",
    "from sklearn.metrics import jaccard_score\n",
    "from PIL import Image\n",
    "\n",
    "gt_color_to_label = {\n",
    "    (128,   0,   0) : 0,  # building\n",
    "    (128, 128, 128) : 1,  # sky\n",
    "    (128,  64, 128) : 2,  # road\n",
    "    (128, 128,   0) : 3,  # vegetation\n",
    "    (  0,   0, 192) : 4,  # sidewalk\n",
    "    ( 64,   0, 128) : 5,  # car\n",
    "    ( 64,  64,   0) : 6,  # pedestrain\n",
    "    (  0, 128, 192) : 7,  # cyclist\n",
    "    (192, 128, 128) : 8,  # signate\n",
    "    ( 64,  64, 128) : 9,  # fence\n",
    "    (192, 192, 128) : 10, # pole\n",
    "    (  0,   0,   0) : 255 # invalid\n",
    "}\n",
    "\n",
    "img_gt_dir = '/home/ganlu/la3dm_ws/src/semantic_3d_mapping/grid_sensor/data_kitti_15/kitti_15/'\n",
    "img_pred_dir = '/home/ganlu/la3dm_ws/src/semantic_3d_mapping/grid_sensor/data_kitti_15/crf_3d_reproj/'\n",
    "evaluation_list = '/home/ganlu/la3dm_ws/src/semantic_3d_mapping/grid_sensor/data_kitti_15/evaluatioList.txt'\n",
    "evaluation_list = np.loadtxt(evaluation_list)\n",
    "\n",
    "img_pred_all = []\n",
    "img_gt_all = []\n",
    "for img_id in evaluation_list:\n",
    "    img_id = np.array2string(img_id, formatter={'float_kind':lambda x: \"%06i\" % x})\n",
    "    print(img_id)\n",
    "    \n",
    "    # Read images\n",
    "    img_gt_color = np.array(Image.open(img_gt_dir + img_id + '.png'))\n",
    "    img_pred = np.array(Image.open(img_pred_dir + img_id + '_bw.png'))\n",
    "\n",
    "    # Convert rgb to label\n",
    "    rows, cols, _ = img_gt_color.shape\n",
    "    img_gt = np.zeros((rows, cols))\n",
    "    for i in range(rows):\n",
    "        for j in range(cols):\n",
    "            img_gt[i, j] = gt_color_to_label[tuple(img_gt_color[i, j, :])]\n",
    "    \n",
    "    img_gt_all.append(img_gt)\n",
    "    img_pred_all.append(img_pred)\n",
    "    \n",
    "# Flatten\n",
    "img_gt_all = np.array(img_gt_all).flatten()\n",
    "img_pred_all = np.array(img_pred_all).flatten()\n",
    "\n",
    "# Ignore sky and invalid labels\n",
    "img_pred_all = img_pred_all[img_gt_all != 1]\n",
    "img_gt_all = img_gt_all[img_gt_all != 1]\n",
    "img_pred_all = img_pred_all[img_gt_all != 255]\n",
    "img_gt_all = img_gt_all[img_gt_all != 255]\n",
    "\n",
    "img_gt_all = img_gt_all[img_pred_all != 255]\n",
    "img_pred_all = img_pred_all[img_pred_all != 255]\n",
    "\n",
    "\n",
    "# IoU for each class\n",
    "print( np.unique(np.concatenate((img_gt_all, img_pred_all), axis=0)) )\n",
    "print( jaccard_score(img_gt_all, img_pred_all, average=None) )"
   ]
  },
  {
   "cell_type": "code",
   "execution_count": 62,
   "metadata": {},
   "outputs": [
    {
     "name": "stdout",
     "output_type": "stream",
     "text": [
      "              precision    recall  f1-score   support\n",
      "\n",
      "         0.0       0.90      0.48      0.63   4365645\n",
      "         2.0       0.94      0.79      0.86   2297856\n",
      "         3.0       0.89      0.57      0.69   3779679\n",
      "         4.0       0.91      0.67      0.77   1276557\n",
      "         5.0       0.96      0.44      0.60    846401\n",
      "         6.0       0.00      0.00      0.00    215840\n",
      "         7.0       0.00      0.00      0.00         0\n",
      "         8.0       0.86      0.15      0.26      7313\n",
      "         9.0       0.94      0.51      0.66   1976975\n",
      "        10.0       0.50      0.30      0.37     31859\n",
      "       255.0       0.00      0.00      0.00         0\n",
      "\n",
      "    accuracy                           0.56  14798125\n",
      "   macro avg       0.63      0.36      0.44  14798125\n",
      "weighted avg       0.90      0.56      0.69  14798125\n",
      "\n"
     ]
    }
   ],
   "source": [
    "from sklearn.metrics import classification_report\n",
    "print(classification_report(img_gt_all, img_pred_all))"
   ]
  },
  {
   "cell_type": "code",
   "execution_count": null,
   "metadata": {},
   "outputs": [],
   "source": []
  }
 ],
 "metadata": {
  "kernelspec": {
   "display_name": "Python 3",
   "language": "python",
   "name": "python3"
  },
  "language_info": {
   "codemirror_mode": {
    "name": "ipython",
    "version": 3
   },
   "file_extension": ".py",
   "mimetype": "text/x-python",
   "name": "python",
   "nbconvert_exporter": "python",
   "pygments_lexer": "ipython3",
   "version": "3.5.2"
  }
 },
 "nbformat": 4,
 "nbformat_minor": 2
}
