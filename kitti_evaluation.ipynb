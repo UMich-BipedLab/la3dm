{
 "cells": [
  {
   "cell_type": "code",
   "execution_count": 6,
   "metadata": {
    "scrolled": true
   },
   "outputs": [
    {
     "name": "stdout",
     "output_type": "stream",
     "text": [
      "000000\n",
      "000020\n",
      "000040\n",
      "000060\n",
      "000100\n",
      "000120\n",
      "000140\n",
      "000160\n",
      "000180\n",
      "000200\n",
      "000220\n",
      "000240\n",
      "000260\n",
      "000280\n",
      "000300\n",
      "000320\n",
      "000340\n",
      "000360\n",
      "000380\n",
      "000400\n",
      "000420\n",
      "000440\n",
      "000460\n",
      "000480\n",
      "000500\n",
      "000520\n",
      "000540\n",
      "000560\n",
      "000580\n",
      "000600\n",
      "000620\n",
      "000640\n",
      "000660\n",
      "000680\n",
      "000700\n",
      "000720\n",
      "000740\n",
      "000760\n",
      "000780\n",
      "000800\n",
      "[  0.   1.   2.   3.   4.   5.   6.   7.   8.   9.  10. 255.]\n",
      "[0.87517022 1.         0.93261928 0.87576128 0.81970487 0.76909557\n",
      " 1.         1.         0.18563371 0.79189579 0.29612799 1.        ]\n"
     ]
    }
   ],
   "source": [
    "import numpy as np\n",
    "from sklearn.metrics import jaccard_score\n",
    "from PIL import Image\n",
    "\n",
    "gt_color_to_label = {\n",
    "    (128,   0,   0) : 0,  # building\n",
    "    (128, 128, 128) : 1,  # sky\n",
    "    (128,  64, 128) : 2,  # road\n",
    "    (128, 128,   0) : 3,  # vegetation\n",
    "    (  0,   0, 192) : 4,  # sidewalk\n",
    "    ( 64,   0, 128) : 5,  # car\n",
    "    ( 64,  64,   0) : 6,  # pedestrain\n",
    "    (  0, 128, 192) : 7,  # cyclist\n",
    "    (192, 128, 128) : 8,  # signate\n",
    "    ( 64,  64, 128) : 9,  # fence\n",
    "    (192, 192, 128) : 10, # pole\n",
    "    (  0,   0,   0) : 255 # invalid\n",
    "}\n",
    "\n",
    "img_gt_dir = '/home/ganlu/la3dm_ws/src/semantic_3d_mapping/grid_sensor/data_kitti_05/kitti_05/'\n",
    "img_pred_dir = '/home/ganlu/la3dm_ws/src/semantic_3d_mapping/grid_sensor/data_kitti_05/reproj_img/'\n",
    "evaluation_list = '/home/ganlu/la3dm_ws/src/semantic_3d_mapping/grid_sensor/data_kitti_05/evaluatioList.txt'\n",
    "evaluation_list = np.loadtxt(evaluation_list)\n",
    "\n",
    "img_pred_all = []\n",
    "img_gt_all = []\n",
    "for img_id in evaluation_list:\n",
    "    img_id = np.array2string(img_id, formatter={'float_kind':lambda x: \"%06i\" % x})\n",
    "    print(img_id)\n",
    "    \n",
    "    # Read images\n",
    "    img_gt_color = np.array(Image.open(img_gt_dir + img_id + '.png'))\n",
    "    img_pred = np.array(Image.open(img_pred_dir + img_id + '_bw.png'))\n",
    "\n",
    "    # Convert rgb to label\n",
    "    rows, cols, _ = img_gt_color.shape\n",
    "    img_gt = np.zeros((rows, cols))\n",
    "    for i in range(rows):\n",
    "        for j in range(cols):\n",
    "            img_gt[i, j] = gt_color_to_label[tuple(img_gt_color[i, j, :])]\n",
    "    \n",
    "    img_gt_all.append(img_gt)\n",
    "    img_pred_all.append(img_pred)\n",
    "    \n",
    "# Flatten\n",
    "img_gt_all = np.array(img_gt_all).flatten()\n",
    "img_pred_all = np.array(img_pred_all).flatten()\n",
    "\n",
    "# Ignore label 1, 6, 7, 255\n",
    "for i in [1, 6, 7, 255]:\n",
    "    mask = img_gt_all == i\n",
    "    img_pred_all[mask] = i\n",
    "    mask = img_pred_all == i\n",
    "    img_gt_all[mask] = i\n",
    "\n",
    "# IoU for each class\n",
    "print( np.unique(np.concatenate((img_gt_all, img_pred_all), axis=0)) )\n",
    "print( jaccard_score(img_gt_all, img_pred_all, average=None) )\n"
   ]
  },
  {
   "cell_type": "code",
   "execution_count": 5,
   "metadata": {},
   "outputs": [
    {
     "name": "stdout",
     "output_type": "stream",
     "text": [
      "              precision    recall  f1-score   support\n",
      "\n",
      "         0.0       0.96      0.98      0.97   1271703\n",
      "         1.0       1.00      1.00      1.00    482122\n",
      "         2.0       0.96      1.00      0.98   1127075\n",
      "         3.0       0.92      0.98      0.95   1586253\n",
      "         4.0       0.93      0.90      0.91    526878\n",
      "         5.0       0.99      0.96      0.98    593776\n",
      "         7.0       1.00      1.00      1.00       125\n",
      "         8.0       0.98      0.27      0.43      4902\n",
      "         9.0       0.97      0.81      0.88    718048\n",
      "        10.0       0.89      0.55      0.68     37206\n",
      "       255.0       1.00      1.00      1.00   5317312\n",
      "\n",
      "    accuracy                           0.98  11665400\n",
      "   macro avg       0.96      0.86      0.89  11665400\n",
      "weighted avg       0.98      0.98      0.97  11665400\n",
      "\n"
     ]
    }
   ],
   "source": [
    "from sklearn.metrics import classification_report\n",
    "print(classification_report(img_gt_all, img_pred_all))"
   ]
  },
  {
   "cell_type": "code",
   "execution_count": null,
   "metadata": {},
   "outputs": [],
   "source": []
  }
 ],
 "metadata": {
  "kernelspec": {
   "display_name": "Python 3",
   "language": "python",
   "name": "python3"
  },
  "language_info": {
   "codemirror_mode": {
    "name": "ipython",
    "version": 3
   },
   "file_extension": ".py",
   "mimetype": "text/x-python",
   "name": "python",
   "nbconvert_exporter": "python",
   "pygments_lexer": "ipython3",
   "version": "3.5.2"
  }
 },
 "nbformat": 4,
 "nbformat_minor": 2
}
