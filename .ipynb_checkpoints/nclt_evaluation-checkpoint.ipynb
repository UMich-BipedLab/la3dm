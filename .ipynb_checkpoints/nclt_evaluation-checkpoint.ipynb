{
 "cells": [
  {
   "cell_type": "code",
   "execution_count": 3,
   "metadata": {},
   "outputs": [
    {
     "name": "stdout",
     "output_type": "stream",
     "text": [
      "(525686,)\n",
      "(525686,)\n",
      "[ 1.  2.  3.  4.  5.  6.  7.  8.  9. 10. 11. 12.]\n",
      "[0.00886263 0.29945629 0.45742668 0.75013228 0.77620876 0.90416277\n",
      " 0.48555708 0.         0.03555556 0.2842902  0.         0.        ]\n"
     ]
    }
   ],
   "source": [
    "import numpy as np\n",
    "from sklearn.metrics import jaccard_score\n",
    "\n",
    "evaluation_dir = '/home/ganlu/la3dm_ws/src/la3dm/data/nclt/nclt_0429_evaluation/'\n",
    "result_list = evaluation_dir + 'result_list.txt'\n",
    "\n",
    "gt_all = np.array([])\n",
    "pred_all = np.array([])\n",
    "with open(result_list) as fp:\n",
    "    for line in fp:\n",
    "        print(line)\n",
    "        result = np.loadtxt(evaluation_dir + line[0:-1])\n",
    "        gt = result[:,0]\n",
    "        pred = result[:,1]\n",
    "        gt_all = np.concatenate((gt_all, gt))\n",
    "        pred_all = np.concatenate((pred_all, pred))\n",
    "        \n",
    "print(gt_all.shape)\n",
    "print(pred_all.shape)\n",
    "print( np.unique(np.concatenate((gt_all, pred_all), axis=0)) )\n",
    "print(jaccard_score(gt_all, pred_all, average=None)) "
   ]
  }
 ],
 "metadata": {
  "kernelspec": {
   "display_name": "Python 3",
   "language": "python",
   "name": "python3"
  },
  "language_info": {
   "codemirror_mode": {
    "name": "ipython",
    "version": 3
   },
   "file_extension": ".py",
   "mimetype": "text/x-python",
   "name": "python",
   "nbconvert_exporter": "python",
   "pygments_lexer": "ipython3",
   "version": "3.5.2"
  }
 },
 "nbformat": 4,
 "nbformat_minor": 2
}
