{
 "cells": [
  {
   "cell_type": "code",
   "execution_count": 30,
   "metadata": {},
   "outputs": [
    {
     "name": "stdout",
     "output_type": "stream",
     "text": [
      "1335704231918265\n",
      "1335704239918677\n",
      "(17357,)\n",
      "(17357,)\n",
      "[ 0.  4.  6. 13.]\n",
      "[0.         0.36258562 0.90502726 0.        ]\n"
     ]
    }
   ],
   "source": [
    "import numpy as np\n",
    "from sklearn.metrics import jaccard_score\n",
    "from PIL import Image\n",
    "\n",
    "\n",
    "\n",
    "img_gt_dir = '/media/ganlu/PeRL SSD/gt_label/kitti_15/'\n",
    "#img_pred_dir = '/media/ganlu/PeRL SSD/data_kitti_15/counting_sensor_model_reproj/'\n",
    "img_pred_dir = '/home/ganlu/la3dm_ws/src/semantic_3d_mapping/grid_sensor/data_kitti_15/reproj_img/'\n",
    "#img_pred_dir = '/media/ganlu/PeRL SSD/data_kitti_15/crf_3d_reproj/'\n",
    "result_dir = '/home/ganlu/Datasets/nclt/may23_gt_pcd_txt_whole/'\n",
    "evaluation_list = '/home/ganlu/Datasets/nclt/may23_gt_pcd_txt_whole/evaluation_list.txt'\n",
    "evaluation_list = np.loadtxt(evaluation_list)\n",
    "\n",
    "gt_all = []\n",
    "pred_all = []\n",
    "for result_id in evaluation_list:\n",
    "    result_id = np.array2string(result_id, formatter={'float_kind':lambda x: \"%16i\" % x})\n",
    "    print(result_id)\n",
    "    \n",
    "    # Read result file\n",
    "    result = np.loadtxt(result_dir + result_id + '.txt')\n",
    "    #print(result)\n",
    "    gt = result[:,0]\n",
    "    pred = result[:,1]\n",
    "    #print(gt)\n",
    "    #print(pred)\n",
    "    gt_all.append(list(gt))\n",
    "    pred_all.append(list(pred))\n",
    "\n",
    "gt_all = np.array(gt_all[0])\n",
    "pred_all = np.array(pred_all[0])\n",
    "print(gt_all.shape)\n",
    "print(pred_all.shape)\n",
    "print( np.unique(np.concatenate((gt_all, pred_all), axis=0)) )\n",
    "print(jaccard_score(gt_all, pred_all, average=None)) \n",
    "\n",
    "\n",
    "   "
   ]
  },
  {
   "cell_type": "code",
   "execution_count": null,
   "metadata": {},
   "outputs": [],
   "source": [
    "img_pred_all = []\n",
    "img_gt_all = []\n",
    "for img_id in evaluation_list:\n",
    "    img_id = np.array2string(img_id, formatter={'float_kind':lambda x: \"%06i\" % x})\n",
    "    print(img_id)\n",
    "    \n",
    "    # Read images\n",
    "    img_gt_color = np.array(Image.open(img_gt_dir + img_id + '.png'))\n",
    "    img_pred = np.array(Image.open(img_pred_dir + img_id + '_bw.png'))\n",
    "\n",
    "    # Convert rgb to label\n",
    "    rows, cols, _ = img_gt_color.shape\n",
    "    img_gt = np.zeros((rows, cols))\n",
    "    for i in range(rows):\n",
    "        for j in range(cols):\n",
    "            img_gt[i, j] = gt_color_to_label[tuple(img_gt_color[i, j, :])]\n",
    "\n",
    "    # Ignore label 255\n",
    "    mask = (img_gt == 255)\n",
    "    img_pred[mask] = 255\n",
    "    mask = (img_pred == 255)\n",
    "    img_gt[mask] = 255\n",
    "    \n",
    "    img_gt_all.append(img_gt)\n",
    "    img_pred_all.append(img_pred)\n",
    "    \n",
    "# Flatten\n",
    "img_gt_all = np.array(img_gt_all).flatten()\n",
    "img_pred_all = np.array(img_pred_all).flatten()\n",
    "    \n",
    "# IoU for each class\n",
    "print( np.unique(np.concatenate((img_gt_all, img_pred_all), axis=0)) )\n",
    "print(jaccard_score(img_gt_all, img_pred_all, average=None)) "
   ]
  }
 ],
 "metadata": {
  "kernelspec": {
   "display_name": "Python 3",
   "language": "python",
   "name": "python3"
  },
  "language_info": {
   "codemirror_mode": {
    "name": "ipython",
    "version": 3
   },
   "file_extension": ".py",
   "mimetype": "text/x-python",
   "name": "python",
   "nbconvert_exporter": "python",
   "pygments_lexer": "ipython3",
   "version": "3.5.2"
  }
 },
 "nbformat": 4,
 "nbformat_minor": 2
}
