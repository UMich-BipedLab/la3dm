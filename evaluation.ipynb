{
 "cells": [
  {
   "cell_type": "code",
   "execution_count": 136,
   "metadata": {},
   "outputs": [
    {
     "name": "stdout",
     "output_type": "stream",
     "text": [
      "[  0.   1.   2.   3.   4.   5.   6.   8.   9.  10. 255.]\n"
     ]
    },
    {
     "data": {
      "text/plain": [
       "array([0.66225562, 0.        , 0.9742519 , 0.83308556, 0.6534352 ,\n",
       "       0.        , 0.        , 0.        , 0.        , 0.20547386,\n",
       "       1.        ])"
      ]
     },
     "execution_count": 136,
     "metadata": {},
     "output_type": "execute_result"
    }
   ],
   "source": [
    "import numpy as np\n",
    "from sklearn.metrics import jaccard_score\n",
    "from PIL import Image\n",
    "\n",
    "\n",
    "gt_color_to_label = {\n",
    "    (128,   0,   0) : 0,  # building\n",
    "    (128, 128, 128) : 1,  # sky\n",
    "    (128,  64, 128) : 2,  # road\n",
    "    (128, 128,   0) : 3,  # vegetation\n",
    "    (  0,   0, 192) : 4,  # sidewalk\n",
    "    ( 64,   0, 128) : 5,  # car\n",
    "    ( 64,  64,   0) : 6,  # pedestrain\n",
    "    (  0, 128, 192) : 7,  # cyclist\n",
    "    (192, 128, 128) : 8,  # signate\n",
    "    ( 64,  64, 128) : 9,  # fence\n",
    "    (192, 192, 128) : 10, # pose\n",
    "    (  0,   0,   0) : 255 # invalid\n",
    "}\n",
    "\n",
    "\n",
    "# Read images\n",
    "img_bgk = Image.open('/home/ganlu/reproj_label_maps.png')\n",
    "img_bgk = np.array(img_bgk)\n",
    "img_crf = Image.open('/home/ganlu/la3dm_ws/src/semantic_3d_mapping/grid_sensor/data_kitti/crf_3d_reproj/000000_bw.png')\n",
    "img_crf = np.array(img_crf)\n",
    "img_gt = Image.open('/home/ganlu/000000.png')\n",
    "img_gt = np.array(img_gt)\n",
    "\n",
    "# Convert rgb to label\n",
    "rows, cols, _ = img_gt.shape\n",
    "gt = np.zeros((rows, cols))\n",
    "for i in range(rows):\n",
    "    for j in range(cols):\n",
    "        gt[i, j] = gt_color_to_label[tuple(img_gt[i, j, :])]\n",
    "        \n",
    "# Ignore label 255\n",
    "mask = (gt == 255)\n",
    "img_bgk[mask] = 255\n",
    "img_crf[mask] = 255\n",
    "mask = (img_bgk == 255)\n",
    "gt[mask] = 255\n",
    "\n",
    "# Flatten\n",
    "img_bgk = img_bgk.flatten()\n",
    "img_crf = img_crf.flatten()\n",
    "gt = gt.flatten()\n",
    "\n",
    "# IoU for each class\n",
    "print( np.unique(np.concatenate((img_bgk, gt), axis=0)) )\n",
    "jaccard_score(gt, img_bgk, average=None)"
   ]
  }
 ],
 "metadata": {
  "kernelspec": {
   "display_name": "Python 3",
   "language": "python",
   "name": "python3"
  },
  "language_info": {
   "codemirror_mode": {
    "name": "ipython",
    "version": 3
   },
   "file_extension": ".py",
   "mimetype": "text/x-python",
   "name": "python",
   "nbconvert_exporter": "python",
   "pygments_lexer": "ipython3",
   "version": "3.5.2"
  }
 },
 "nbformat": 4,
 "nbformat_minor": 2
}
